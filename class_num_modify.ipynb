{
 "cells": [
  {
   "cell_type": "markdown",
   "metadata": {},
   "source": [
    "#### 파일 내용 안의 기존 숫자를 특정 숫자로 변경"
   ]
  },
  {
   "cell_type": "code",
   "execution_count": 1,
   "metadata": {},
   "outputs": [],
   "source": [
    "import os\n",
    "\n",
    "class ClassNumChanger:\n",
    "    def __init__(self, dst_path):\n",
    "        self.dst_path = dst_path\n",
    "\n",
    "    def change_numbers(self, origin_num, change_num):\n",
    "        # 디렉토리 안의 파일 목록 얻기\n",
    "        file_list = os.listdir(self.dst_path)\n",
    "\n",
    "        # 파일 하나씩 열어서 내용 수정\n",
    "        for file_name in file_list:\n",
    "            file_path = os.path.join(self.dst_path, file_name)\n",
    "            if file_name.endswith('.txt'):\n",
    "                with open(file_path, 'r', encoding='utf-8') as file:\n",
    "                    lines = file.readlines()\n",
    "\n",
    "                # 각 라인을 순회하면서 첫 번째 숫자가 origin_num change_num 수정\n",
    "                modified_lines = []\n",
    "                for line in lines:\n",
    "                    parts = line.strip().split()  # strip() 함수로 앞뒤 공백과 개행 문자 제거\n",
    "                    if parts[0] == origin_num:\n",
    "                        parts[0] = change_num\n",
    "                    modified_lines.append(' '.join(parts))  # join() 함수로 다시 합치기\n",
    "\n",
    "                # 수정된 내용을 파일에 쓰기\n",
    "                with open(file_path, 'w', encoding='utf-8') as file:\n",
    "                    file.writelines('\\n'.join(modified_lines))  # 각 줄을 다시 합침\n"
   ]
  },
  {
   "cell_type": "code",
   "execution_count": 7,
   "metadata": {},
   "outputs": [],
   "source": [
    "num_changer = ClassNumChanger('/Users/jiwon/Downloads/data')\n",
    "num_changer.change_numbers('5', '4')\n"
   ]
  }
 ],
 "metadata": {
  "kernelspec": {
   "display_name": "Python 3",
   "language": "python",
   "name": "python3"
  },
  "language_info": {
   "codemirror_mode": {
    "name": "ipython",
    "version": 3
   },
   "file_extension": ".py",
   "mimetype": "text/x-python",
   "name": "python",
   "nbconvert_exporter": "python",
   "pygments_lexer": "ipython3",
   "version": "3.8.10"
  }
 },
 "nbformat": 4,
 "nbformat_minor": 2
}
